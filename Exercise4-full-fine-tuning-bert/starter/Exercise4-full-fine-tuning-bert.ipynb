{
  "cells": [
    {
      "cell_type": "markdown",
      "metadata": {},
      "source": [
        "# Exercise: Full-fine tuning BERT\n",
        "\n",
        "In this exercise, you will create a BERT sentiment classifier using the [Hugging Face Transformers](https://huggingface.co/transformers/) library. You will use the [IMDB movie review dataset](https://ai.stanford.edu/~amaas/data/sentiment/) to train and evaluate your model.\n",
        "\n",
        "The IMDB dataset contains 50,000 movie reviews that are labeled as either positive or negative. The dataset is split into 25,000 reviews for training and 25,000 reviews for testing. The training and testing sets are balanced, meaning they contain an equal number of positive and negative reviews.\n"
      ],
      "outputs": [],
      "execution_count": null
    },
    {
      "cell_type": "code",
      "execution_count": null,
      "metadata": {},
      "outputs": [],
      "source": [
        "# Install dependencies for this notebook if they are missing\n",
        "! pip install -q \\\n",
        "    scikit-learn \\\n",
        "    evaluate \\\n",
        "    datasets \\\n",
        "    \"transformers[torch]\" \\\n",
        "    ipywidgets"
      ]
    },
    {
      "cell_type": "code",
      "execution_count": null,
      "metadata": {},
      "outputs": [],
      "source": [
        "# Since we intend on using a GPU, we inspect that one is available and has enough memory to run the model\n",
        "! nvidia-smi"
      ]
    },
    {
      "cell_type": "code",
      "execution_count": null,
      "metadata": {},
      "outputs": [],
      "source": [
        "# Import the datasets and transformers packages\n",
        "# NOTE: If you receieve an error such as \"ModuleNotFoundError: No module named 'datasets'\",\n",
        "# please restart the kernel (Kernel > Restart) and start the notebook from the top\n",
        "\n",
        "from datasets import load_dataset\n",
        "\n",
        "from transformers import AutoTokenizer\n",
        "\n",
        "splits = [\"train\", \"test\"]\n",
        "\n",
        "# The sms_spam dataset only has a train split, so we use the train_test_split method to split it into train and test\n",
        "dataset = load_dataset(\"sms_spam\", split=\"train\").train_test_split(test_size=0.2, shuffle=True, seed=23)\n",
        "\n",
        "\n",
        "dataset[\"train\"][0]\n"
      ]
    },
    {
      "cell_type": "code",
      "execution_count": null,
      "metadata": {},
      "outputs": [],
      "source": [
        "\n",
        "def preprocess_function(examples):\n",
        "    return tokenizer(examples[\"text\"], truncation=True)\n",
        "\n",
        "tokenizer = AutoTokenizer.from_pretrained(\"distilbert-base-uncased\")\n",
        "tokenized_dataset = {}\n",
        "for split in splits:\n",
        "    tokenized_dataset[split] = dataset[split].map(lambda x: tokenizer(x[\"sms\"], truncation=True), batched=True)\n",
        "print(tokenized_dataset[\"train\"][0][\"input_ids\"])\n"
      ]
    },
    {
      "cell_type": "code",
      "execution_count": null,
      "metadata": {},
      "outputs": [],
      "source": [
        "\n",
        "import evaluate\n",
        "from transformers import AutoModelForSequenceClassification, TrainingArguments, Trainer\n",
        "\n",
        "\n",
        "import numpy as np\n",
        "\n",
        "accuracy = evaluate.load(\"accuracy\")\n",
        "\n",
        "\n",
        "def compute_metrics(eval_pred):\n",
        "    predictions, labels = eval_pred\n",
        "    predictions = np.argmax(predictions, axis=1)\n",
        "    return accuracy.compute(predictions=predictions, references=labels)\n",
        "\n",
        "id2label = {0: \"not spam\", 1: \"spam\"}\n",
        "label2id = {\"not spam\": 0, \"spam\": 1}\n",
        "\n",
        "\n",
        "# https://huggingface.co/transformers/v3.0.2/model_doc/auto.html#automodelforsequenceclassification\n",
        "model = AutoModelForSequenceClassification.from_pretrained(\n",
        "    \"distilbert-base-uncased\", num_labels=2, id2label=id2label, label2id=label2id\n",
        ")\n",
        "\n",
        "# Unfreeze all the model parameters.\n",
        "# Note: \n",
        "for param in model.parameters():\n",
        "    param.requires_grad = True\n",
        "    # adjust learning rate for fine-tuning by uncommenting the following line\n",
        "    # param.requires_grad_(lr=2e-5)\n",
        "\n"
      ]
    },
    {
      "cell_type": "code",
      "execution_count": null,
      "metadata": {},
      "outputs": [],
      "source": [
        "# list(model.named_parameters())"
      ]
    },
    {
      "cell_type": "code",
      "execution_count": null,
      "metadata": {},
      "outputs": [],
      "source": [
        "print(model)"
      ]
    },
    {
      "cell_type": "code",
      "execution_count": null,
      "metadata": {},
      "outputs": [],
      "source": [
        "from transformers import DataCollatorWithPadding\n",
        "\n",
        "# The HuggingFace Trainer class handles the training and eval loop for PyTorch for us.\n",
        "# Read more about it here https://huggingface.co/docs/transformers/main_classes/trainer \n",
        "trainer = Trainer(\n",
        "    model=model,\n",
        "    args=TrainingArguments(\n",
        "        output_dir=\"./data/sentiment_analysis\",\n",
        "        learning_rate=2e-5,\n",
        "        # Reduce the batch size if you don't have enough memory\n",
        "        per_device_train_batch_size=16,\n",
        "        per_device_eval_batch_size=16,\n",
        "        num_train_epochs=2,\n",
        "        weight_decay=0.01,\n",
        "        evaluation_strategy=\"epoch\",\n",
        "        save_strategy=\"epoch\",\n",
        "        load_best_model_at_end=True,\n",
        "        push_to_hub=False,\n",
        "\n",
        "    ),\n",
        "    train_dataset=tokenized_dataset[\"train\"],\n",
        "    eval_dataset=tokenized_dataset[\"test\"],\n",
        "    tokenizer=tokenizer,\n",
        "    data_collator=DataCollatorWithPadding(tokenizer=tokenizer),\n",
        "    compute_metrics=compute_metrics,\n",
        ")\n",
        "\n",
        "trainer.train()\n"
      ]
    },
    {
      "cell_type": "code",
      "execution_count": null,
      "metadata": {},
      "outputs": [],
      "source": [
        "import pandas as pd\n",
        "df = pd.DataFrame(tokenized_dataset[\"test\"])\n",
        "df = df[['sms', 'label']]\n",
        "df = pd.concat(\n",
        "    [\n",
        "        df[df['label'] == 0].head(5),\n",
        "        df[df['label'] == 1].head(5)\n",
        "    ]\n",
        ")\n",
        "pd.set_option('display.max_colwidth', 200)\n",
        "df"
      ]
    },
    {
      "cell_type": "code",
      "execution_count": null,
      "metadata": {},
      "outputs": [],
      "source": [
        "dataset_indices = list(df.index)"
      ]
    },
    {
      "cell_type": "code",
      "execution_count": null,
      "metadata": {},
      "outputs": [],
      "source": [
        "# Show the performance of the model on some test set examples\n",
        "\n",
        "# select the first negative and the first positive test set examples\n",
        "\n",
        "\n",
        "predictions = trainer.predict(tokenized_dataset[\"test\"].select(dataset_indices))\n",
        "# Print the 10 first test set samples with their predictions.\n",
        "# split text into lines of 80 characters\n",
        "def split_text(text, n=160):\n",
        "    lines = []\n",
        "    while len(text) > n:\n",
        "        line = text[:n]\n",
        "        space_index = line.rfind(\" \")\n",
        "        if space_index != -1:\n",
        "            line = line[:space_index]\n",
        "        lines.append(line)\n",
        "        text = text[len(line):]\n",
        "    lines.append(text)\n",
        "    return \"\\n\".join(lines)\n",
        "\n",
        "for index, (pred, label, text) in enumerate(zip(predictions.predictions.argmax(axis=1), predictions.label_ids, tokenized_dataset[\"test\"].select(dataset_indices)[\"sms\"])):\n",
        "    print(f\"{index}. pred={id2label[pred]} | label={id2label[label]} \\n {split_text(text)}\")"
      ]
    },
    {
      "cell_type": "code",
      "execution_count": null,
      "metadata": {},
      "outputs": [],
      "source": [
        "# for param in model.parameters():\n",
        "#     # print the weights of the model\n",
        "#     print(param.data[0,:10])\n",
        "\n",
        "\n",
        "[model.base_model.embeddings.word_embeddings.weight.data[0,:10],\n",
        "model.base_model.transformer.layer[0].attention.q_lin.weight.data[0,:10],\n",
        "model.base_model.transformer.layer[1].attention.q_lin.weight.data[0,:10],\n",
        "model.base_model.transformer.layer[2].attention.q_lin.weight.data[0,:10],\n",
        "model.base_model.transformer.layer[3].attention.q_lin.weight.data[0,:10],\n",
        "model.base_model.transformer.layer[4].attention.q_lin.weight.data[0,:10],\n",
        "model.base_model.transformer.layer[5].attention.q_lin.weight.data[0,:10],\n",
        "model.pre_classifier.weight.data[0,:10],\n",
        "model.classifier.weight.data[0,:10],\n",
        "]\n",
        "\n",
        "# Verify that the weights of the model have changed"
      ]
    }
  ],
  "metadata": {
    "kernelspec": {
      "display_name": "Python 3",
      "language": "python",
      "name": "python3"
    },
    "language_info": {
      "codemirror_mode": {
        "name": "ipython",
        "version": 3
      },
      "file_extension": ".py",
      "mimetype": "text/x-python",
      "name": "python",
      "nbconvert_exporter": "python",
      "pygments_lexer": "ipython3",
      "version": "3.10.11"
    }
  },
  "nbformat": 4,
  "nbformat_minor": 4
}
