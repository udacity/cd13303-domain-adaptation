{
 "cells": [
  {
   "cell_type": "code",
   "execution_count": null,
   "metadata": {},
   "outputs": [],
   "source": [
    "# Exercise: Improve your queries using prompt design techniques"
   ]
  },
  {
   "cell_type": "code",
   "execution_count": 2,
   "metadata": {},
   "outputs": [
    {
     "name": "stdout",
     "output_type": "stream",
     "text": [
      "Defaulting to user installation because normal site-packages is not writeable\n",
      "Collecting nltk\n",
      "  Downloading nltk-3.8.1-py3-none-any.whl (1.5 MB)\n",
      "\u001b[2K     \u001b[90m━━━━━━━━━━━━━━━━━━━━━━━━━━━━━━━━━━━━━━━━\u001b[0m \u001b[32m1.5/1.5 MB\u001b[0m \u001b[31m41.0 MB/s\u001b[0m eta \u001b[36m0:00:00\u001b[0m00:01\u001b[0m\n",
      "\u001b[?25hCollecting click (from nltk)\n",
      "  Obtaining dependency information for click from https://files.pythonhosted.org/packages/00/2e/d53fa4befbf2cfa713304affc7ca780ce4fc1fd8710527771b58311a3229/click-8.1.7-py3-none-any.whl.metadata\n",
      "  Downloading click-8.1.7-py3-none-any.whl.metadata (3.0 kB)\n",
      "Requirement already satisfied: joblib in /opt/conda/lib/python3.10/site-packages (from nltk) (1.3.2)\n",
      "Requirement already satisfied: regex>=2021.8.3 in /opt/conda/lib/python3.10/site-packages (from nltk) (2023.10.3)\n",
      "Requirement already satisfied: tqdm in /opt/conda/lib/python3.10/site-packages (from nltk) (4.65.0)\n",
      "Downloading click-8.1.7-py3-none-any.whl (97 kB)\n",
      "\u001b[2K   \u001b[90m━━━━━━━━━━━━━━━━━━━━━━━━━━━━━━━━━━━━━━━━\u001b[0m \u001b[32m97.9/97.9 kB\u001b[0m \u001b[31m11.7 MB/s\u001b[0m eta \u001b[36m0:00:00\u001b[0m\n",
      "\u001b[?25hInstalling collected packages: click, nltk\n",
      "\u001b[33m  WARNING: The script nltk is installed in '/home/myuser/.local/bin' which is not on PATH.\n",
      "  Consider adding this directory to PATH or, if you prefer to suppress this warning, use --no-warn-script-location.\u001b[0m\u001b[33m\n",
      "\u001b[0mSuccessfully installed click-8.1.7 nltk-3.8.1\n"
     ]
    }
   ],
   "source": [
    "! pip install nltk"
   ]
  },
  {
   "cell_type": "code",
   "execution_count": 12,
   "metadata": {},
   "outputs": [
    {
     "name": "stdout",
     "output_type": "stream",
     "text": [
      "inseparableness\n",
      "dissatisfaction\n",
      "compassionaters\n",
      "eclaircissement\n",
      "compassionating\n",
      "countermarching\n",
      "excrementitious\n",
      "transformations\n",
      "untransmissible\n",
      "discriminations\n"
     ]
    }
   ],
   "source": [
    "# List all the words at least 15 letters long from the the book Leaves of Grass by Walt Whitman\n",
    "\n",
    "import nltk\n",
    "from nltk.corpus import gutenberg\n",
    "import random\n",
    "\n",
    "# Load the book\n",
    "if not nltk.data.find('corpora/gutenberg'):\n",
    "    nltk.download('gutenberg')\n",
    "book = gutenberg.words('whitman-leaves.txt')\n",
    "\n",
    "# Get all the words exactly 15 letters long\n",
    "long_words = list(set([word.lower() for word in book if len(word) == 15]))\n",
    "\n",
    "\n",
    "# Shuffle the words to make this a bit more fun\n",
    "random.seed(0)\n",
    "random.shuffle(long_words)\n",
    "\n",
    "for word in long_words:\n",
    "    print(word)\n",
    "\n"
   ]
  },
  {
   "cell_type": "code",
   "execution_count": 17,
   "metadata": {},
   "outputs": [
    {
     "data": {
      "text/plain": [
       "'discriminations'"
      ]
     },
     "execution_count": 17,
     "metadata": {},
     "output_type": "execute_result"
    }
   ],
   "source": [
    "def get_nth_word_that_contains_letters(words, letters, nth_from_beginning):\n",
    "    # Get the words that contain the letters\n",
    "    words_with_letters = [word for word in sorted(words) if all(letter in word for letter in letters)]\n",
    "\n",
    "    # Get the nth word from the beginning\n",
    "    if len(words_with_letters) < nth_from_beginning:\n",
    "        return None\n",
    "    \n",
    "    nth_word = words_with_letters[nth_from_beginning - 1]\n",
    "\n",
    "    return nth_word\n",
    "\n",
    "# Get the 50th word that contains the letters 'abc' from the beginning\n",
    "get_nth_word_that_contains_letters(long_words, 'sm', 3)"
   ]
  },
  {
   "cell_type": "code",
   "execution_count": 39,
   "metadata": {},
   "outputs": [
    {
     "name": "stdout",
     "output_type": "stream",
     "text": [
      "Given a list of letters L and a number N, return the Nth word from an alphabetized list of the 15-letter words from Walt Whitman's Leaves of Grass that contain all the letters in L.\n",
      "\n",
      "L=['t', 'd'] N=2 Answer=?\n",
      "\n",
      "For your reference, here are the 15-letter words from Leaves of Grass:\n",
      "  * inseparableness\n",
      "  * dissatisfaction\n",
      "  * compassionaters\n",
      "  * eclaircissement\n",
      "  * compassionating\n",
      "  * countermarching\n",
      "  * excrementitious\n",
      "  * transformations\n",
      "  * untransmissible\n",
      "  * discriminations\n"
     ]
    }
   ],
   "source": [
    "from textwrap import dedent\n",
    "def zero_shot_query():\n",
    "    return dedent(\"\"\"\n",
    "\n",
    "\n",
    "    Given a list of letters L and a number N, return the Nth word from an alphabetized list of the 15-letter words from Walt Whitman's Leaves of Grass that contain all the letters in L.\n",
    "                  \n",
    "    L=['t', 'd'] N=2 Answer=?\n",
    "                  \n",
    "    For your reference, here are the 15-letter words from Leaves of Grass:\n",
    "      * inseparableness\n",
    "      * dissatisfaction\n",
    "      * compassionaters\n",
    "      * eclaircissement\n",
    "      * compassionating\n",
    "      * countermarching\n",
    "      * excrementitious\n",
    "      * transformations\n",
    "      * untransmissible\n",
    "      * discriminations                  \n",
    "    \"\"\").strip()\n",
    "print(zero_shot_query())"
   ]
  },
  {
   "cell_type": "code",
   "execution_count": null,
   "metadata": {},
   "outputs": [],
   "source": [
    "L=['t', 'd'] N=2 Answer=dissatisfaction"
   ]
  },
  {
   "cell_type": "code",
   "execution_count": 41,
   "metadata": {},
   "outputs": [
    {
     "name": "stdout",
     "output_type": "stream",
     "text": [
      "\n",
      "    Given a list of letters L and a number N, return the Nth word from an alphabetized list of the 15-letter words from Walt Whitman's Leaves of Grass that contain all the letters in L.\n",
      "\n",
      "L=['t', 'd'] N=2 Answer=?\n",
      "\n",
      "For your reference, here are the 15-letter words from Leaves of Grass:\n",
      "  * inseparableness\n",
      "  * dissatisfaction\n",
      "  * compassionaters\n",
      "  * eclaircissement\n",
      "  * compassionating\n",
      "  * countermarching\n",
      "  * excrementitious\n",
      "  * transformations\n",
      "  * untransmissible\n",
      "  * discriminations\n",
      "\n",
      "    Use the following examples to help you with your answer:\n",
      "\n",
      "    L=['r'] N=2 Answer=countermarching\n",
      "    L=['c'] N=3 Answer=countermarching\n",
      "    L=['t'] N=2 Answer=compassionating\n",
      "    L=['h'] N=1 Answer=countermarching\n",
      "\n"
     ]
    }
   ],
   "source": [
    "import random\n",
    "import string\n",
    "\n",
    "def few_shot_query():\n",
    "    output = dedent(f\"\"\"\n",
    "    {zero_shot_query()}\n",
    "\n",
    "    Use the following examples to help you with your answer:\n",
    "\n",
    "    \"\"\")\n",
    "    # set the seed\n",
    "    random.seed(0)\n",
    "    for _ in range(20):\n",
    "        # Pick 1-4 random letters\n",
    "        L = random.sample(string.ascii_lowercase, random.randint(1, 2))\n",
    "\n",
    "        # Pick a random number between 1 and 50\n",
    "        N = random.randint(1, 3)\n",
    "\n",
    "        answer = get_nth_word_that_contains_letters(long_words, L, N)\n",
    "\n",
    "        if answer is None:\n",
    "            continue\n",
    "\n",
    "        output += f'    L={L} N={N} Answer={answer}\\n'\n",
    "    return output\n",
    "\n",
    "print(few_shot_query())"
   ]
  },
  {
   "cell_type": "code",
   "execution_count": 8,
   "metadata": {},
   "outputs": [
    {
     "name": "stdout",
     "output_type": "stream",
     "text": [
      "zir 5 None\n",
      "ejd 5 None\n",
      "v 4 None\n",
      "rd 4 None\n",
      "kt 5 None\n",
      "r 4 countermarching\n",
      "qi 3 None\n",
      "acx 4 None\n",
      "zvu 3 None\n",
      "pkh 5 None\n",
      "\n",
      "Here are the words from Leaves of Grass by Walt Whitman that are at least 15 letters long.\n",
      "\n",
      "Words:\n",
      "inextinguishable\n",
      "discriminations\n",
      "inseparableness\n",
      "constructiveness\n",
      "indiscriminately\n",
      "dissatisfaction\n",
      "compassionating\n",
      "untransmissible\n",
      "eclaircissement\n",
      "excrementitious\n",
      "countermarching\n",
      "transformations\n",
      "incomprehensible\n",
      "circumnavigation\n",
      "compassionaters\n",
      "\n",
      "---\n",
      "\n",
      "\n"
     ]
    }
   ],
   "source": [
    "import random\n",
    "import string\n",
    "\n",
    "\n",
    "\n",
    "query = \"\"\"\"\"\"\n",
    "\n",
    "query += \"\"\"\n",
    "Here are the words from Leaves of Grass by Walt Whitman that are at least 15 letters long.\n",
    "\n",
    "Words:\n",
    "\"\"\"\n",
    "\n",
    "for word in long_words:\n",
    "    query += word + \"\\n\"\n",
    "\n",
    "query += \"\"\"\n",
    "---\n",
    "\n",
    "Question\n",
    "\"\"\"\n",
    "\n",
    "for _ in range(10):\n",
    "\n",
    "    # Pick 1-4 random letters\n",
    "    letters = ''.join(random.sample(string.ascii_lowercase, random.randint(1, 3)))\n",
    "\n",
    "    # Pick a random number between 1 and 50\n",
    "    nth_from_beginning = random.randint(3, 5)\n",
    "\n",
    "    print(letters, nth_from_beginning, get_nth_word_that_contains_letters(long_words, letters, nth_from_beginning))\n",
    "\n",
    "print(query)"
   ]
  },
  {
   "cell_type": "code",
   "execution_count": 9,
   "metadata": {},
   "outputs": [
    {
     "ename": "NameError",
     "evalue": "name 'words' is not defined",
     "output_type": "error",
     "traceback": [
      "\u001b[0;31m---------------------------------------------------------------------------\u001b[0m",
      "\u001b[0;31mNameError\u001b[0m                                 Traceback (most recent call last)",
      "\u001b[1;32m/workspaces/generative-ai-course-generator/notebooks/1.4.15.82.ipynb Cell 5\u001b[0m line \u001b[0;36m1\n\u001b[0;32m----> <a href='vscode-notebook-cell://dev-container%2B7b22686f737450617468223a222f686f6d652f627269616e2f35313274686572656d696e732d646576656e762f7268796d6573776974686c696f6e2f67656e657261746976652d61692d636f757273652d67656e657261746f722f67656e657261746976652d61692d636f757273652d67656e657261746f722e636f64652d776f726b7370616365222c226c6f63616c446f636b6572223a66616c73652c22636f6e66696746696c65223a7b22246d6964223a312c2270617468223a222f686f6d652f627269616e2f35313274686572656d696e732d646576656e762f7268796d6573776974686c696f6e2f67656e657261746976652d61692d636f757273652d67656e657261746f722f2e646576636f6e7461696e65722f646576636f6e7461696e65722e6a736f6e222c22736368656d65223a227673636f64652d66696c65486f7374227d7d@ssh-remote%2Bbrianshomelab/workspaces/generative-ai-course-generator/notebooks/1.4.15.82.ipynb#W4sdnNjb2RlLXJlbW90ZQ%3D%3D?line=0'>1</a>\u001b[0m get_nth_word_that_contains_letters(words, \u001b[39m\"\u001b[39m\u001b[39mgs\u001b[39m\u001b[39m\"\u001b[39m, \u001b[39m3\u001b[39m)\n",
      "\u001b[0;31mNameError\u001b[0m: name 'words' is not defined"
     ]
    }
   ],
   "source": [
    "get_nth_word_that_contains_letters(words, \"gs\", 3)"
   ]
  }
 ],
 "metadata": {
  "kernelspec": {
   "display_name": ".venv",
   "language": "python",
   "name": "python3"
  },
  "language_info": {
   "codemirror_mode": {
    "name": "ipython",
    "version": 3
   },
   "file_extension": ".py",
   "mimetype": "text/x-python",
   "name": "python",
   "nbconvert_exporter": "python",
   "pygments_lexer": "ipython3",
   "version": "3.10.11"
  },
  "orig_nbformat": 4
 },
 "nbformat": 4,
 "nbformat_minor": 2
}
