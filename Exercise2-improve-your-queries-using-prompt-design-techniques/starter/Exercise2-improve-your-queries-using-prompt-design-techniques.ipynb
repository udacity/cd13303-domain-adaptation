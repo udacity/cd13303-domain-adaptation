{
  "cells": [
    {
      "cell_type": "code",
      "metadata": {},
      "source": [
        "# Exercise: Improve your queries using prompt design techniques"
      ]
    },
    {
      "cell_type": "code",
      "metadata": {},
      "source": [
        "! pip install nltk"
      ]
    },
    {
      "cell_type": "code",
      "metadata": {},
      "source": [
        "# List all the words at least 15 letters long from the the book Leaves of Grass by Walt Whitman\n",
        "\n",
        "import nltk\n",
        "from nltk.corpus import gutenberg\n",
        "import random\n",
        "\n",
        "# Load the book\n",
        "if not nltk.data.find('corpora/gutenberg'):\n",
        "    nltk.download('gutenberg')\n",
        "book = gutenberg.words('whitman-leaves.txt')\n",
        "\n",
        "# Get all the words exactly 15 letters long\n",
        "long_words = list(set([word.lower() for word in book if len(word) == 15]))\n",
        "\n",
        "\n",
        "# Shuffle the words to make this a bit more fun\n",
        "random.seed(0)\n",
        "random.shuffle(long_words)\n",
        "\n",
        "for word in long_words:\n",
        "    print(word)\n",
        "\n"
      ]
    },
    {
      "cell_type": "code",
      "metadata": {},
      "source": [
        "def get_nth_word_that_contains_letters(words, letters, nth_from_beginning):\n",
        "    # Get the words that contain the letters\n",
        "    words_with_letters = [word for word in sorted(words) if all(letter in word for letter in letters)]\n",
        "\n",
        "    # Get the nth word from the beginning\n",
        "    if len(words_with_letters) < nth_from_beginning:\n",
        "        return None\n",
        "    \n",
        "    nth_word = words_with_letters[nth_from_beginning - 1]\n",
        "\n",
        "    return nth_word\n",
        "\n",
        "# Get the 50th word that contains the letters 'abc' from the beginning\n",
        "get_nth_word_that_contains_letters(long_words, 'sm', 3)"
      ]
    },
    {
      "cell_type": "code",
      "metadata": {},
      "source": [
        "from textwrap import dedent\n",
        "def zero_shot_query():\n",
        "    return dedent(\"\"\"\n",
        "\n",
        "\n",
        "    Given a list of letters L and a number N, return the Nth word from an alphabetized list of the 15-letter words from Walt Whitman's Leaves of Grass that contain all the letters in L.\n",
        "                  \n",
        "    L=['t', 'd'] N=2 Answer=?\n",
        "                  \n",
        "    For your reference, here are the 15-letter words from Leaves of Grass:\n",
        "      * inseparableness\n",
        "      * dissatisfaction\n",
        "      * compassionaters\n",
        "      * eclaircissement\n",
        "      * compassionating\n",
        "      * countermarching\n",
        "      * excrementitious\n",
        "      * transformations\n",
        "      * untransmissible\n",
        "      * discriminations                  \n",
        "    \"\"\").strip()\n",
        "print(zero_shot_query())"
      ]
    },
    {
      "cell_type": "code",
      "metadata": {},
      "source": [
        "L=['t', 'd'] N=2 Answer=dissatisfaction"
      ]
    },
    {
      "cell_type": "code",
      "metadata": {},
      "source": [
        "import random\n",
        "import string\n",
        "\n",
        "def few_shot_query():\n",
        "    output = dedent(f\"\"\"\n",
        "    {zero_shot_query()}\n",
        "\n",
        "    Use the following examples to help you with your answer:\n",
        "\n",
        "    \"\"\")\n",
        "    # set the seed\n",
        "    random.seed(0)\n",
        "    for _ in range(20):\n",
        "        # Pick 1-4 random letters\n",
        "        L = random.sample(string.ascii_lowercase, random.randint(1, 2))\n",
        "\n",
        "        # Pick a random number between 1 and 50\n",
        "        N = random.randint(1, 3)\n",
        "\n",
        "        answer = get_nth_word_that_contains_letters(long_words, L, N)\n",
        "\n",
        "        if answer is None:\n",
        "            continue\n",
        "\n",
        "        output += f'    L={L} N={N} Answer={answer}\\n'\n",
        "    return output\n",
        "\n",
        "print(few_shot_query())"
      ]
    },
    {
      "cell_type": "code",
      "metadata": {},
      "source": [
        "import random\n",
        "import string\n",
        "\n",
        "\n",
        "\n",
        "query = \"\"\"\"\"\"\n",
        "\n",
        "query += \"\"\"\n",
        "Here are the words from Leaves of Grass by Walt Whitman that are at least 15 letters long.\n",
        "\n",
        "Words:\n",
        "\"\"\"\n",
        "\n",
        "for word in long_words:\n",
        "    query += word + \"\\n\"\n",
        "\n",
        "query += \"\"\"\n",
        "---\n",
        "\n",
        "Question\n",
        "\"\"\"\n",
        "\n",
        "for _ in range(10):\n",
        "\n",
        "    # Pick 1-4 random letters\n",
        "    letters = ''.join(random.sample(string.ascii_lowercase, random.randint(1, 3)))\n",
        "\n",
        "    # Pick a random number between 1 and 50\n",
        "    nth_from_beginning = random.randint(3, 5)\n",
        "\n",
        "    print(letters, nth_from_beginning, get_nth_word_that_contains_letters(long_words, letters, nth_from_beginning))\n",
        "\n",
        "print(query)"
      ]
    },
    {
      "cell_type": "code",
      "metadata": {},
      "source": [
        "get_nth_word_that_contains_letters(words, \"gs\", 3)"
      ]
    }
  ],
  "metadata": {
    "kernelspec": {
      "display_name": ".venv",
      "language": "python",
      "name": "python3"
    },
    "language_info": {
      "codemirror_mode": {
        "name": "ipython",
        "version": 3
      },
      "file_extension": ".py",
      "mimetype": "text/x-python",
      "name": "python",
      "nbconvert_exporter": "python",
      "pygments_lexer": "ipython3",
      "version": "3.10.11"
    },
    "orig_nbformat": 4
  },
  "nbformat": 4,
  "nbformat_minor": 2
}
