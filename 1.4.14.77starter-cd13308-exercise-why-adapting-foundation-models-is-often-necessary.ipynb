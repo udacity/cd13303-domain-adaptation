{
 "cells": [
  {
   "cell_type": "markdown",
   "metadata": {},
   "source": [
    "# Exercise: Why adapting foundation models is often necessary\n",
    "\n",
    "The development of foundation models has revolutionized the ease with which one can make AI-powered applications. However, these models are not always fast nor are they always accurate. When faced with domain-specific tasks, which invariably involve data much different from the original pre-training data, one must turn to adaptation techniques to ensure not only optimal performance but also speed.\n",
    "\n",
    "## Identify the domain-specific task\n",
    "\n",
    "Determine the specific task or problem that needs to be addressed using the foundation model. We recommend picking a use-case that involves natural language processing, since text-based foundation models, such as ChatGPT or Bard, are relatively easy to access. You may also choose another type of task altogether if, for instance, you have access to DALL-E and would like to explore image generation.\n",
    "\n",
    "If you are having a difficult time coming up with a scenario, you can use the following. Imagine you are starting a company that sells sneakers for puppies. How can you use a large language model to gauge the sentiment of the reviews you are receiving on the website? (Pro-tip: Try the query \"Write several possible reviews that might appear on a website for custom sneakers for puppies. The reviews should be a mix of good, bad, and ambiguous.\")\n",
    "\n",
    "## Preliminarily evaluate the performance of the model\n",
    "\n",
    "Come up with 3-5 test cases for you specific task. Assess the performance of the non-adapted model by testing it on your data. Did the model perform as you expected? Why or why not? How can the model be improved?\n"
   ]
  },
  {
   "cell_type": "markdown",
   "metadata": {},
   "source": []
  }
 ],
 "metadata": {
  "kernelspec": {
   "display_name": ".venv",
   "language": "python",
   "name": "python3"
  },
  "language_info": {
   "codemirror_mode": {
    "name": "ipython",
    "version": 3
   },
   "file_extension": ".py",
   "mimetype": "text/x-python",
   "name": "python",
   "nbconvert_exporter": "python",
   "pygments_lexer": "ipython3",
   "version": "3.9.17"
  },
  "orig_nbformat": 4
 },
 "nbformat": 4,
 "nbformat_minor": 2
}
